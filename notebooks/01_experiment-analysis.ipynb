{
 "cells": [
  {
   "cell_type": "markdown",
   "id": "73fe0c98",
   "metadata": {},
   "source": [
    "# Анализ результатов экспериментов от 28.08.25 и 29.08.25"
   ]
  },
  {
   "cell_type": "code",
   "execution_count": null,
   "id": "b205b79f",
   "metadata": {},
   "outputs": [],
   "source": [
    "%load_ext autoreload\n",
    "%autoreload 2"
   ]
  },
  {
   "cell_type": "markdown",
   "id": "ba6ffe21",
   "metadata": {},
   "source": [
    "## Описание эксперимента"
   ]
  },
  {
   "cell_type": "markdown",
   "id": "fb445adf",
   "metadata": {},
   "source": [
    "Использовался алгоритм TD3 (Twin Delayed DDPG), адаптированный для работы в реальном времени в среде с бесконечным горизонтом. Состояние системы $s$ описывалось значениями с АЦП (управляемый сигнал) и ЦАП (управляющий сигнал), а также заданным для поддержания значением. Действие $a$ агента представляло собой выбор коэффициентов ПИД-регулятора $(K_p, K_i, K_d)$, а награда $r$ определялась по формуле\n",
    "$$\n",
    "r = -\\left\\lvert U_\\text{setpoint} - U_\\text{process variable} \\right\\rvert,\n",
    "$$\n",
    "где $U_\\text{setpoint}$ — установленное значение, а $U_\\text{process variable}$ - сигнал с АЦП.\n",
    "\n",
    "Для корректной работы в реальном времени процесс сбора данных (взаимодействие агента с системой и формирование буфера переходов) и процесс обучения (обновления Q-функций и политики) были разделены."
   ]
  },
  {
   "cell_type": "markdown",
   "id": "1ee0ffc2",
   "metadata": {},
   "source": [
    "## Результаты"
   ]
  },
  {
   "cell_type": "code",
   "execution_count": null,
   "id": "52859ba0",
   "metadata": {},
   "outputs": [],
   "source": [
    "from pathlib import Path\n",
    "\n",
    "EXPERIMENT_NAME = \"td3_train_real_async\"\n",
    "EXPERIMENT_DATE = \"2025-08-28\"\n",
    "EXPERIMENT_TIME = \"15-38-42\"\n",
    "\n",
    "PATH_TO_EXP_DIR = Path(f\"../experiments/{EXPERIMENT_NAME}/{EXPERIMENT_DATE}/{EXPERIMENT_TIME}\")\n",
    "\n",
    "LOG_TRAIN_DIR = PATH_TO_EXP_DIR / \"train_logs\"\n",
    "LOG_ENV_DIR = PATH_TO_EXP_DIR / \"env_logs\""
   ]
  },
  {
   "cell_type": "code",
   "execution_count": null,
   "id": "d19b62a1",
   "metadata": {},
   "outputs": [],
   "source": [
    "import matplotlib.pyplot as plt\n",
    "import seaborn as sns\n",
    "\n",
    "def plot_tensorboard_df(ax, df, tags=None, title=\"Training curves\"):\n",
    "    for tag in tags:\n",
    "        sns.lineplot(data=df, x=\"step\", y=tag, ax=ax, label=tag)\n",
    "    \n",
    "    ax.set_title(title, fontsize=14)\n",
    "    ax.set_xlabel(\"Step\")\n",
    "    ax.set_ylabel(\"Value\")\n",
    "    ax.legend(title=\"Metric\")"
   ]
  },
  {
   "cell_type": "code",
   "execution_count": null,
   "id": "eba223f2",
   "metadata": {},
   "outputs": [],
   "source": [
    "from nn_laser_stabilizer.utils import tensorboard_to_df\n",
    "\n",
    "train_df = tensorboard_to_df(str(LOG_TRAIN_DIR))"
   ]
  },
  {
   "cell_type": "code",
   "execution_count": null,
   "id": "cf498c07",
   "metadata": {},
   "outputs": [],
   "source": [
    "env_df = tensorboard_to_df(str(LOG_ENV_DIR))\n",
    "env_df[\"Reward\"] = -abs(env_df[\"Observation/x\"] - env_df[\"Observation/setpoint\"]) + 1"
   ]
  },
  {
   "cell_type": "markdown",
   "id": "4987729c",
   "metadata": {},
   "source": [
    "Tensorboard содержит не все данные: количество step значительно количества точек."
   ]
  },
  {
   "cell_type": "code",
   "execution_count": null,
   "id": "dada0f0b",
   "metadata": {},
   "outputs": [],
   "source": [
    "print(env_df.info())\n",
    "print(env_df[\"step\"])"
   ]
  },
  {
   "cell_type": "code",
   "execution_count": null,
   "id": "91dfeb5e",
   "metadata": {},
   "outputs": [],
   "source": [
    "print(train_df.info())\n",
    "print(train_df[\"step\"])"
   ]
  },
  {
   "cell_type": "code",
   "execution_count": null,
   "id": "5cf089ce",
   "metadata": {},
   "outputs": [],
   "source": [
    "fig, ax = plt.subplots(figsize=(10, 6))\n",
    "plot_tensorboard_df(ax, train_df, tags=[\"Loss/Critic\", \"Loss/Actor\"], title=\"Training curves\")\n",
    "plt.tight_layout()\n",
    "plt.savefig(LOG_TRAIN_DIR / \"train_logs.pdf\")"
   ]
  },
  {
   "cell_type": "code",
   "execution_count": null,
   "id": "0196ae9b",
   "metadata": {},
   "outputs": [],
   "source": [
    "ADC_MAX = 10230\n",
    "\n",
    "# Делаем обратное преобразование для графика\n",
    "env_df[\"Observation/x\"] = ((env_df[\"Observation/x\"] + 1) / 2) * ADC_MAX\n",
    "env_df[\"Observation/setpoint\"] = ((env_df[\"Observation/setpoint\"] + 1) / 2) * ADC_MAX"
   ]
  },
  {
   "cell_type": "code",
   "execution_count": null,
   "id": "2c5a1745",
   "metadata": {},
   "outputs": [],
   "source": [
    "fig, ax = plt.subplots(figsize=(10, 6))\n",
    "plot_tensorboard_df(ax, env_df, tags=[\"Observation/x\", \"Observation/setpoint\"], title=\"Observation curves\")\n",
    "plt.tight_layout()\n",
    "plt.savefig(LOG_ENV_DIR / \"observation_logs.pdf\")"
   ]
  },
  {
   "cell_type": "code",
   "execution_count": null,
   "id": "bc29f103",
   "metadata": {},
   "outputs": [],
   "source": [
    "fig, ax = plt.subplots(figsize=(10, 6))\n",
    "plot_tensorboard_df(ax, env_df, tags=[\"Reward\"], title=\"Reward curve\")\n",
    "plt.tight_layout()\n",
    "plt.savefig(LOG_ENV_DIR / \"reward_logs.pdf\")"
   ]
  },
  {
   "cell_type": "code",
   "execution_count": null,
   "id": "b9c2a491",
   "metadata": {},
   "outputs": [],
   "source": [
    "action_tags = [\"Action/kp\", \"Action/ki\", \"Action/kd\"]\n",
    "\n",
    "for tag in action_tags:\n",
    "    fig, ax = plt.subplots(figsize=(10, 6))\n",
    "    ax.set_xlim(0, 10000)\n",
    "\n",
    "    plot_tensorboard_df(ax, env_df, tags=[tag], title=tag)\n",
    "\n",
    "    plt.tight_layout()\n",
    "    plt.savefig(LOG_ENV_DIR / f\"{tag.replace('/', '_')}_first_steps.pdf\")\n",
    "\n",
    "for tag in action_tags:\n",
    "    fig, ax = plt.subplots(figsize=(10, 6))\n",
    "\n",
    "    plot_tensorboard_df(ax, env_df, tags=[tag], title=tag)\n",
    "\n",
    "    plt.tight_layout()\n",
    "    plt.savefig(LOG_ENV_DIR / f\"{tag.replace('/', '_')}.pdf\")"
   ]
  }
 ],
 "metadata": {
  "kernelspec": {
   "display_name": "nn-laser-stabilizer",
   "language": "python",
   "name": "python3"
  },
  "language_info": {
   "codemirror_mode": {
    "name": "ipython",
    "version": 3
   },
   "file_extension": ".py",
   "mimetype": "text/x-python",
   "name": "python",
   "nbconvert_exporter": "python",
   "pygments_lexer": "ipython3",
   "version": "3.10.13"
  }
 },
 "nbformat": 4,
 "nbformat_minor": 5
}
