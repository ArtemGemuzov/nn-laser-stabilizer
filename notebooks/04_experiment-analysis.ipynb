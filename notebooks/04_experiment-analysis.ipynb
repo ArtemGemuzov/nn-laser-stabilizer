{
 "cells": [
  {
   "cell_type": "markdown",
   "id": "73fe0c98",
   "metadata": {},
   "source": [
    "# Анализ результатов эксперимента от 23.09.25"
   ]
  },
  {
   "cell_type": "code",
   "execution_count": null,
   "id": "b205b79f",
   "metadata": {},
   "outputs": [],
   "source": [
    "%load_ext autoreload\n",
    "%autoreload 2"
   ]
  },
  {
   "cell_type": "markdown",
   "id": "ba6ffe21",
   "metadata": {},
   "source": [
    "## Описание эксперимента"
   ]
  },
  {
   "cell_type": "markdown",
   "id": "fb445adf",
   "metadata": {},
   "source": [
    "Проверялась работа алгоритма при отправке фиксированных значений Kp = 3.5, Ki = 11.0, Kd = 0.002.\n",
    "Также была внедрена отправка control min и control max."
   ]
  },
  {
   "cell_type": "markdown",
   "id": "1ee0ffc2",
   "metadata": {},
   "source": [
    "## Результаты"
   ]
  },
  {
   "cell_type": "code",
   "execution_count": null,
   "id": "52859ba0",
   "metadata": {},
   "outputs": [],
   "source": [
    "from pathlib import Path\n",
    "\n",
    "EXPERIMENT_NAME = \"connection_test\"\n",
    "EXPERIMENT_DATE = \"2025-09-23\"\n",
    "EXPERIMENT_TIME = \"17-44-34\"\n",
    "\n",
    "PATH_TO_EXP_DIR = Path(f\"../experiments/{EXPERIMENT_NAME}/{EXPERIMENT_DATE}/{EXPERIMENT_TIME}\")\n",
    "\n",
    "LOG_TRAIN_DIR = PATH_TO_EXP_DIR / \"train_logs\"\n",
    "LOG_ENV_DIR = PATH_TO_EXP_DIR / \"env_logs\""
   ]
  },
  {
   "cell_type": "code",
   "execution_count": null,
   "id": "d19b62a1",
   "metadata": {},
   "outputs": [],
   "source": [
    "import matplotlib.pyplot as plt\n",
    "import seaborn as sns\n",
    "\n",
    "def plot_tensorboard_df(ax, df, tags=None, title=\"Training curves\"):\n",
    "    for tag in tags:\n",
    "        sns.lineplot(data=df, x=\"step\", y=tag, ax=ax, label=tag)\n",
    "    \n",
    "    ax.set_title(title, fontsize=14)\n",
    "    ax.set_xlabel(\"Step\")\n",
    "    ax.set_ylabel(\"Value\")\n",
    "    ax.legend(title=\"Metric\")"
   ]
  },
  {
   "cell_type": "code",
   "execution_count": null,
   "id": "eba223f2",
   "metadata": {},
   "outputs": [],
   "source": [
    "from nn_laser_stabilizer.utils import tensorboard_to_df\n",
    "\n",
    "train_df = tensorboard_to_df(str(LOG_TRAIN_DIR))"
   ]
  },
  {
   "cell_type": "markdown",
   "id": "4987729c",
   "metadata": {},
   "source": [
    "Tensorboard содержит не все данные: количество step значительно количества точек."
   ]
  },
  {
   "cell_type": "code",
   "execution_count": null,
   "id": "91dfeb5e",
   "metadata": {},
   "outputs": [],
   "source": [
    "print(train_df.info())\n",
    "print(train_df[\"step\"])"
   ]
  },
  {
   "cell_type": "code",
   "execution_count": null,
   "id": "5cf089ce",
   "metadata": {},
   "outputs": [],
   "source": [
    "fig, ax = plt.subplots(figsize=(10, 6))\n",
    "plot_tensorboard_df(ax, train_df, tags=[\"Loss/Critic\", \"Loss/Actor\"], title=\"Training curves\")\n",
    "plt.tight_layout()\n",
    "plt.savefig(LOG_TRAIN_DIR / \"train_logs.pdf\")"
   ]
  },
  {
   "cell_type": "code",
   "execution_count": null,
   "id": "1f24b712",
   "metadata": {},
   "outputs": [],
   "source": [
    "fig, ax = plt.subplots(figsize=(10, 6))\n",
    "ax.set_xlim(left=0, right=500)\n",
    "plot_tensorboard_df(ax, train_df, tags=[\"Loss/Critic\", \"Loss/Actor\"], title=\"Training curves\")\n",
    "plt.tight_layout()\n",
    "plt.savefig(LOG_TRAIN_DIR / \"train_logs_first_steps.pdf\")"
   ]
  },
  {
   "cell_type": "code",
   "execution_count": null,
   "id": "f84bf2b1",
   "metadata": {},
   "outputs": [],
   "source": [
    "import pandas as pd\n",
    "import re\n",
    "\n",
    "def parse_pid_log(file_path: str) -> pd.DataFrame:\n",
    "    pattern = re.compile(\n",
    "        r\"step=(\\d+)\\s+time=([-+]?\\d*\\.\\d+|\\d+)\\s+kp=([-+]?\\d*\\.\\d+|\\d+)\\s+\"\n",
    "        r\"ki=([-+]?\\d*\\.\\d+|\\d+)\\s+kd=([-+]?\\d*\\.\\d+|\\d+)\\s+\"\n",
    "        r\"x=([-+]?\\d*\\.\\d+|\\d+)\\s+control_output=([-+]?\\d*\\.\\d+|\\d+)\\s+\"\n",
    "        r\"setpoint=([-+]?\\d*\\.\\d+|\\d+)\"\n",
    "    )\n",
    "\n",
    "    data = []\n",
    "    with open(file_path, \"r\") as f:\n",
    "        for line in f:\n",
    "            match = pattern.search(line)\n",
    "            if match:\n",
    "                data.append([\n",
    "                    int(match.group(1)),      # step\n",
    "                    float(match.group(2)),    # time\n",
    "                    float(match.group(3)),    # kp\n",
    "                    float(match.group(4)),    # ki\n",
    "                    float(match.group(5)),    # kd\n",
    "                    float(match.group(6)),    # x\n",
    "                    float(match.group(7)),    # control_output\n",
    "                    float(match.group(8))     # setpoint\n",
    "                ])\n",
    "\n",
    "    df = pd.DataFrame(data, columns=[\n",
    "        \"step\", \"time\", \"Action/kp\", \"Action/ki\", \"Action/kd\", \n",
    "        \"Observation/x\", \"Observation/control_output\", \"Observation/setpoint\"\n",
    "    ])\n",
    "    df[\"reward\"] = -abs(df[\"Observation/setpoint\"] - df[\"Observation/x\"]) + 1\n",
    "    return df"
   ]
  },
  {
   "cell_type": "code",
   "execution_count": null,
   "id": "787b1380",
   "metadata": {},
   "outputs": [],
   "source": [
    "env_df = parse_pid_log(str(LOG_ENV_DIR / \"log.txt\"))"
   ]
  },
  {
   "cell_type": "code",
   "execution_count": null,
   "id": "0196ae9b",
   "metadata": {},
   "outputs": [],
   "source": [
    "from nn_laser_stabilizer.envs.normalization import denormalize_adc, denormalize_dac\n",
    "\n",
    "# Делаем обратное преобразование для графика\n",
    "env_df[\"Observation/x\"] = env_df[\"Observation/x\"].apply(denormalize_adc)\n",
    "env_df[\"Observation/setpoint\"] = env_df[\"Observation/setpoint\"].apply(denormalize_adc)\n",
    "\n",
    "env_df[\"Observation/control_output\"] = env_df[\"Observation/control_output\"].apply(denormalize_dac)"
   ]
  },
  {
   "cell_type": "code",
   "execution_count": null,
   "id": "2c5a1745",
   "metadata": {},
   "outputs": [],
   "source": [
    "fig, ax = plt.subplots(figsize=(10, 6))\n",
    "plot_tensorboard_df(ax, env_df, tags=[\"Observation/x\", \"Observation/setpoint\", \"Observation/control_output\"], title=\"Observation curves\")\n",
    "plt.tight_layout()\n",
    "plt.savefig(LOG_ENV_DIR / \"observation_logs.pdf\")"
   ]
  },
  {
   "cell_type": "code",
   "execution_count": null,
   "id": "530a9a3c",
   "metadata": {},
   "outputs": [],
   "source": [
    "fig, ax = plt.subplots(figsize=(10, 6))\n",
    "ax.set_xlim(left=800_000, right=890_000)\n",
    "plot_tensorboard_df(ax, env_df, tags=[\"Observation/x\", \"Observation/setpoint\"], title=\"Observation curves\")\n",
    "fig.savefig(LOG_ENV_DIR / \"observation_logs_last_steps.pdf\")"
   ]
  },
  {
   "cell_type": "code",
   "execution_count": null,
   "id": "bc29f103",
   "metadata": {},
   "outputs": [],
   "source": [
    "fig, ax = plt.subplots(figsize=(10, 6))\n",
    "plot_tensorboard_df(ax, env_df, tags=[\"reward\"], title=\"Reward curve\")\n",
    "plt.tight_layout()\n",
    "plt.savefig(LOG_ENV_DIR / \"reward_logs.pdf\")"
   ]
  },
  {
   "cell_type": "code",
   "execution_count": null,
   "id": "b9c2a491",
   "metadata": {},
   "outputs": [],
   "source": [
    "action_tags = [\"Action/kp\", \"Action/ki\", \"Action/kd\"]\n",
    "\n",
    "for tag in action_tags:\n",
    "    fig, ax = plt.subplots(figsize=(10, 6))\n",
    "    ax.set_xlim(0, 1000)\n",
    "\n",
    "    plot_tensorboard_df(ax, env_df, tags=[tag], title=tag)\n",
    "\n",
    "    ax.axhline(y=0)\n",
    "\n",
    "    plt.tight_layout()\n",
    "    plt.savefig(LOG_ENV_DIR / f\"{tag.replace('/', '_')}_first_steps.pdf\")\n",
    "\n",
    "for tag in action_tags:\n",
    "    fig, ax = plt.subplots(figsize=(10, 6))\n",
    "\n",
    "    plot_tensorboard_df(ax, env_df, tags=[tag], title=tag)\n",
    "\n",
    "    plt.tight_layout()\n",
    "    plt.savefig(LOG_ENV_DIR / f\"{tag.replace('/', '_')}.pdf\")"
   ]
  }
 ],
 "metadata": {
  "kernelspec": {
   "display_name": "nn-laser-stabilizer",
   "language": "python",
   "name": "python3"
  },
  "language_info": {
   "codemirror_mode": {
    "name": "ipython",
    "version": 3
   },
   "file_extension": ".py",
   "mimetype": "text/x-python",
   "name": "python",
   "nbconvert_exporter": "python",
   "pygments_lexer": "ipython3",
   "version": "3.10.13"
  }
 },
 "nbformat": 4,
 "nbformat_minor": 5
}
