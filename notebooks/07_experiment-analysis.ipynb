{
 "cells": [
  {
   "cell_type": "markdown",
   "id": "73fe0c98",
   "metadata": {},
   "source": [
    "# Анализ результатов эксперимента от 30.09.25"
   ]
  },
  {
   "cell_type": "code",
   "execution_count": null,
   "id": "b205b79f",
   "metadata": {},
   "outputs": [],
   "source": [
    "%load_ext autoreload\n",
    "%autoreload 2"
   ]
  },
  {
   "cell_type": "code",
   "execution_count": null,
   "id": "6b4e9427",
   "metadata": {},
   "outputs": [],
   "source": [
    "import matplotlib.pyplot as plt\n",
    "import seaborn as sns\n",
    "\n",
    "def plot_df(ax, df, tags=None, title=\"Training curves\"):\n",
    "    for tag in tags:\n",
    "        sns.lineplot(data=df, x=\"step\", y=tag, ax=ax, label=tag)\n",
    "    \n",
    "    ax.set_title(title, fontsize=14)\n",
    "    ax.set_xlabel(\"Step\")\n",
    "    ax.set_ylabel(\"Value\")\n",
    "    ax.legend(title=\"Metric\")"
   ]
  },
  {
   "cell_type": "markdown",
   "id": "ba6ffe21",
   "metadata": {},
   "source": [
    "## Описание эксперимента"
   ]
  },
  {
   "cell_type": "markdown",
   "id": "fb445adf",
   "metadata": {},
   "source": [
    "Обучение нейронной сети с учетом всех нароботок, включая предварительный сбор данных."
   ]
  },
  {
   "cell_type": "markdown",
   "id": "1ee0ffc2",
   "metadata": {},
   "source": [
    "## Результаты"
   ]
  },
  {
   "cell_type": "code",
   "execution_count": null,
   "id": "52859ba0",
   "metadata": {},
   "outputs": [],
   "source": [
    "from pathlib import Path\n",
    "\n",
    "EXPERIMENT_NAME = \"td3_train_real_async\"\n",
    "EXPERIMENT_DATE = \"2025-09-30\"\n",
    "EXPERIMENT_TIME = \"13-08-38\"\n",
    "\n",
    "PATH_TO_EXP_DIR = Path(f\"../experiments/{EXPERIMENT_NAME}/{EXPERIMENT_DATE}_{EXPERIMENT_TIME}\")\n",
    "\n",
    "ENV_LOG_DIR = PATH_TO_EXP_DIR / \"env_logs\"\n",
    "TRAIN_LOG_DIR = PATH_TO_EXP_DIR / \"train_logs\""
   ]
  },
  {
   "cell_type": "code",
   "execution_count": null,
   "id": "f84bf2b1",
   "metadata": {},
   "outputs": [],
   "source": [
    "import re\n",
    "import pandas as pd\n",
    "\n",
    "log_pattern_interaction = re.compile(\n",
    "    r\"step=(?P<step>\\d+)\"\n",
    "    r\" time=(?P<time>\\d+\\.\\d+)\"\n",
    "    r\" phase=(?P<phase>\\w+)\"\n",
    "    r\" block_step=(?P<block_step>\\d+)\"\n",
    "    r\" kp=(?P<kp>-?\\d+\\.\\d+)\"\n",
    "    r\" ki=(?P<ki>-?\\d+\\.\\d+)\"\n",
    "    r\" kd=(?P<kd>-?\\d+\\.\\d+)\"\n",
    "    r\" process_variable=(?P<process_variable>-?\\d+\\.\\d+)\"\n",
    "    r\" control_output=(?P<control_output>-?\\d+\\.\\d+)\"\n",
    "    r\" u_min=(?P<u_min>-?\\d+\\.\\d+)\"\n",
    "    r\" u_max=(?P<u_max>-?\\d+\\.\\d+)\"\n",
    ")\n",
    "\n",
    "log_pattern_model = re.compile(\n",
    "    r\"step=(?P<step>\\d+)\"\n",
    "    r\" phase=(?P<phase>\\w+)\"\n",
    "    r\" block_step=(?P<block_step>final)\"\n",
    "    r\" kp=(?P<kp>-?\\d+\\.\\d+)\"\n",
    "    r\" ki=(?P<ki>-?\\d+\\.\\d+)\"\n",
    "    r\" kd=(?P<kd>-?\\d+\\.\\d+)\"\n",
    "    r\" error_mean=(?P<error_mean>-?\\d+\\.\\d+)\"\n",
    "    r\" error_std=(?P<error_std>-?\\d+\\.\\d+)\"\n",
    "    r\" error_mean_norm=(?P<error_mean_norm>-?\\d+\\.\\d+)\"\n",
    "    r\" error_std_norm=(?P<error_std_norm>-?\\d+\\.\\d+)\"\n",
    "    r\" reward=(?P<reward>-?\\d+\\.\\d+)\"\n",
    ")\n",
    "\n",
    "def parse_logs_split(file_path: str):\n",
    "    interaction, model = [], []\n",
    "    with open(file_path, \"r\") as f:\n",
    "        for line in f:\n",
    "            line = line.strip()\n",
    "            if line.startswith(\"step\"):\n",
    "                m1 = log_pattern_interaction.match(line)\n",
    "                if m1:\n",
    "                    interaction.append(m1.groupdict())\n",
    "                    continue\n",
    "                m2 = log_pattern_model.match(line)\n",
    "                if m2:\n",
    "                    model.append(m2.groupdict())\n",
    "                    continue\n",
    "    interaction_df = pd.DataFrame(interaction)\n",
    "    model_df = pd.DataFrame(model)\n",
    "\n",
    "    for df in (interaction_df, model_df):\n",
    "        if not df.empty:\n",
    "            df[\"step\"] = df[\"step\"].astype(int)\n",
    "            for col in df.columns:\n",
    "                if col != \"phase\" and col != \"block_step\":\n",
    "                    df[col] = pd.to_numeric(df[col], errors=\"coerce\")\n",
    "\n",
    "    return interaction_df, model_df\n",
    "\n",
    "\n",
    "interaction_df, model_df = parse_logs_split(ENV_LOG_DIR / \"log.txt\")"
   ]
  },
  {
   "cell_type": "code",
   "execution_count": null,
   "id": "9000285a",
   "metadata": {},
   "outputs": [],
   "source": [
    "print(\"=== Interaction logs info ===\")\n",
    "print(interaction_df.info())\n",
    "print(\"\\n=== Interaction logs head ===\")\n",
    "print(interaction_df.head())\n",
    "print(\"\\n=== Interaction logs describe ===\")\n",
    "print(interaction_df.describe())"
   ]
  },
  {
   "cell_type": "markdown",
   "id": "8efd0f59",
   "metadata": {},
   "source": [
    "## Графики"
   ]
  },
  {
   "cell_type": "code",
   "execution_count": null,
   "id": "2098bf95",
   "metadata": {},
   "outputs": [],
   "source": [
    "filtered_interaction_df = interaction_df[interaction_df[\"phase\"] == \"normal\"].copy()\n",
    "\n",
    "fig, axes = plt.subplots(2, 1, figsize=(12, 8), sharex=True)\n",
    "\n",
    "sns.lineplot(data=filtered_interaction_df, x=\"step\", y=\"process_variable\", ax=axes[0], color=\"blue\")\n",
    "axes[0].set_title(\"Process Variable\")\n",
    "axes[0].set_ylabel(\"process_variable\")\n",
    "\n",
    "sns.lineplot(data=filtered_interaction_df, x=\"step\", y=\"control_output\", ax=axes[1], color=\"red\")\n",
    "axes[1].set_title(\"Control Output\")\n",
    "axes[1].set_xlabel(\"Step\")\n",
    "axes[1].set_ylabel(\"control_output\")\n",
    "\n",
    "plt.tight_layout()\n",
    "plt.show()"
   ]
  },
  {
   "cell_type": "code",
   "execution_count": null,
   "id": "8151caf5",
   "metadata": {},
   "outputs": [],
   "source": [
    "print(\"=== Model logs info ===\")\n",
    "print(model_df.info())\n",
    "print(\"\\n=== Model logs head ===\")\n",
    "print(model_df.head())\n",
    "print(\"\\n=== Model logs describe ===\")\n",
    "print(model_df.describe())"
   ]
  },
  {
   "cell_type": "markdown",
   "id": "59a722dd",
   "metadata": {},
   "source": [
    "Фильтрация по фазе тренировки."
   ]
  },
  {
   "cell_type": "code",
   "execution_count": null,
   "id": "4429068b",
   "metadata": {},
   "outputs": [],
   "source": [
    "NUM_STEPS_IN_BLOCK = 200\n",
    "from nn_laser_stabilizer.envs.pid_tuning_experimental_env import Phase\n",
    "\n",
    "filtered_df = model_df[model_df[\"phase\"] == Phase.NORMAL].copy()\n",
    "filtered_df[\"block\"] = filtered_df[\"step\"] / NUM_STEPS_IN_BLOCK"
   ]
  },
  {
   "cell_type": "code",
   "execution_count": null,
   "id": "548a851a",
   "metadata": {},
   "outputs": [],
   "source": [
    "fig, axes = plt.subplots(3, 1, figsize=(12, 10), sharex=True)\n",
    "\n",
    "sns.lineplot(data=filtered_df, x=\"block\", y=\"kp\", ax=axes[0], color=\"blue\")\n",
    "axes[0].set_title(\"kp over Steps\")\n",
    "axes[0].set_ylabel(\"kp\")\n",
    "\n",
    "sns.lineplot(data=filtered_df, x=\"block\", y=\"ki\", ax=axes[1], color=\"orange\")\n",
    "axes[1].set_title(\"ki over Steps\")\n",
    "axes[1].set_ylabel(\"ki\")\n",
    "\n",
    "sns.lineplot(data=filtered_df, x=\"block\", y=\"kd\", ax=axes[2], color=\"green\")\n",
    "axes[2].set_title(\"kd over Steps\")\n",
    "axes[2].set_xlabel(\"Block Step\")\n",
    "axes[2].set_ylabel(\"kd\")\n",
    "\n",
    "plt.tight_layout()\n",
    "plt.show()"
   ]
  },
  {
   "cell_type": "code",
   "execution_count": null,
   "id": "ef58d445",
   "metadata": {},
   "outputs": [],
   "source": [
    "fig, axes = plt.subplots(2, 1, figsize=(12, 8), sharex=True)\n",
    "\n",
    "sns.lineplot(data=filtered_df, x=\"block\", y=\"error_mean\", ax=axes[0], color=\"blue\")\n",
    "axes[0].set_title(\"Error Mean (Raw)\")\n",
    "axes[0].set_ylabel(\"error_mean\")\n",
    "\n",
    "sns.lineplot(data=filtered_df, x=\"block\", y=\"error_mean_norm\", ax=axes[1], color=\"red\")\n",
    "axes[1].set_title(\"Error Mean (Normalized)\")\n",
    "axes[1].set_xlabel(\"Block Step\")\n",
    "axes[1].set_ylabel(\"error_mean_norm\")\n",
    "\n",
    "plt.tight_layout()\n",
    "plt.show()"
   ]
  },
  {
   "cell_type": "code",
   "execution_count": null,
   "id": "270c6ea8",
   "metadata": {},
   "outputs": [],
   "source": [
    "fig, axes = plt.subplots(2, 1, figsize=(12, 8), sharex=True)\n",
    "\n",
    "sns.lineplot(data=filtered_df, x=\"block\", y=\"error_std\", ax=axes[0], color=\"blue\")\n",
    "axes[0].set_title(\"Error STD (Raw)\")\n",
    "axes[0].set_ylabel(\"error_std\")\n",
    "\n",
    "sns.lineplot(data=filtered_df, x=\"block\", y=\"error_std_norm\", ax=axes[1], color=\"red\")\n",
    "axes[1].set_title(\"Error STD (Normalized)\")\n",
    "axes[1].set_xlabel(\"Block Step\")\n",
    "axes[1].set_ylabel(\"error_std_norm\")\n",
    "\n",
    "plt.tight_layout()\n",
    "plt.show()"
   ]
  },
  {
   "cell_type": "code",
   "execution_count": null,
   "id": "942716e8",
   "metadata": {},
   "outputs": [],
   "source": [
    "fig, ax = plt.subplots(figsize=(12, 5))\n",
    "sns.lineplot(data=filtered_df, x=\"block\", y=\"reward\", ax=ax, color=\"green\")\n",
    "ax.set_title(\"Reward over Steps\")\n",
    "ax.set_xlabel(\"Block Step\")\n",
    "ax.set_ylabel(\"Reward\")\n",
    "plt.show()"
   ]
  },
  {
   "cell_type": "markdown",
   "id": "59f99b3d",
   "metadata": {},
   "source": [
    "## Статистика"
   ]
  },
  {
   "cell_type": "code",
   "execution_count": null,
   "id": "4f1edfd1",
   "metadata": {},
   "outputs": [],
   "source": [
    "filtered_model_df = model_df[model_df[\"phase\"] == \"pretrain\"].copy()\n",
    "\n",
    "print(\"=== Model logs info (phase == 'pretrain') ===\")\n",
    "print(filtered_model_df.info())\n",
    "print(\"\\n=== Model logs head (phase == 'pretrain') ===\")\n",
    "print(filtered_model_df.head())\n",
    "print(\"\\n=== Model logs describe (phase == 'pretrain') ===\")\n",
    "print(filtered_model_df.describe())"
   ]
  },
  {
   "cell_type": "markdown",
   "id": "50ec6b2b",
   "metadata": {},
   "source": [
    "Новые коэффициенты для нормализации будут 250 для mean и 200 для std. "
   ]
  },
  {
   "cell_type": "markdown",
   "id": "5df374a7",
   "metadata": {},
   "source": [
    "## Ход обучения"
   ]
  },
  {
   "cell_type": "code",
   "execution_count": null,
   "id": "2599424d",
   "metadata": {},
   "outputs": [],
   "source": [
    "import re\n",
    "import pandas as pd\n",
    "\n",
    "log_pattern_rl = re.compile(\n",
    "    r\"step=(?P<step>\\d+)\\s+Loss/Critic=(?P<critic_loss>-?\\d+\\.\\d+)\"\n",
    "    r\"\\s+Loss/Actor=(?P<actor_loss>-?\\d+\\.\\d+)\"\n",
    ")\n",
    "\n",
    "def parse_rl_logs(file_path: str):\n",
    "    rows = []\n",
    "    with open(file_path, \"r\") as f:\n",
    "        for line in f:\n",
    "            line = line.strip()\n",
    "            m = log_pattern_rl.match(line)\n",
    "            if m:\n",
    "                rows.append({\n",
    "                    \"step\": int(m.group(\"step\")),\n",
    "                    \"critic_loss\": float(m.group(\"critic_loss\")),\n",
    "                    \"actor_loss\": float(m.group(\"actor_loss\")),\n",
    "                })\n",
    "    df = pd.DataFrame(rows)\n",
    "    return df\n",
    "\n",
    "rl_logs_df = parse_rl_logs(TRAIN_LOG_DIR / \"log.txt\") "
   ]
  },
  {
   "cell_type": "code",
   "execution_count": null,
   "id": "9f9e9928",
   "metadata": {},
   "outputs": [],
   "source": [
    "print(\"RL training logs info:\")\n",
    "print(rl_logs_df.info())\n",
    "print(\"\\nRL training logs head:\")\n",
    "print(rl_logs_df.head())\n",
    "print(\"\\nRL training logs describe:\")\n",
    "print(rl_logs_df.describe())"
   ]
  },
  {
   "cell_type": "code",
   "execution_count": null,
   "id": "f31c575d",
   "metadata": {},
   "outputs": [],
   "source": [
    "fig, ax = plt.subplots(figsize=(12, 6))\n",
    "plot_df(ax, rl_logs_df, tags=[\"critic_loss\", \"actor_loss\"], title=\"Training loss\")"
   ]
  }
 ],
 "metadata": {
  "kernelspec": {
   "display_name": "nn-laser-stabilizer",
   "language": "python",
   "name": "python3"
  },
  "language_info": {
   "codemirror_mode": {
    "name": "ipython",
    "version": 3
   },
   "file_extension": ".py",
   "mimetype": "text/x-python",
   "name": "python",
   "nbconvert_exporter": "python",
   "pygments_lexer": "ipython3",
   "version": "3.10.13"
  }
 },
 "nbformat": 4,
 "nbformat_minor": 5
}
