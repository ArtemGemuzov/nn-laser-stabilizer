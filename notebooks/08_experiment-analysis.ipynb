{
 "cells": [
  {
   "cell_type": "markdown",
   "id": "f758c147",
   "metadata": {},
   "source": [
    "# Анализ эксперимента от 20.10.25 c изменением коэффициента Kp посредством приращений"
   ]
  },
  {
   "cell_type": "code",
   "execution_count": null,
   "id": "16dc621f",
   "metadata": {},
   "outputs": [],
   "source": [
    "%load_ext autoreload\n",
    "%autoreload 2"
   ]
  },
  {
   "cell_type": "code",
   "execution_count": null,
   "id": "324ee47f",
   "metadata": {},
   "outputs": [],
   "source": [
    "from pathlib import Path\n",
    "\n",
    "EXPERIMENT_NAME = \"kp_scan\"\n",
    "EXPERIMENT_DATE = \"2025-10-20\"\n",
    "EXPERIMENT_TIME = \"22-00-22\"\n",
    "\n",
    "PATH_TO_EXP_DIR = Path(f\"../experiments/{EXPERIMENT_NAME}/{EXPERIMENT_DATE}_{EXPERIMENT_TIME}\")\n",
    "LOG_DIR = PATH_TO_EXP_DIR / \"logs\""
   ]
  },
  {
   "cell_type": "code",
   "execution_count": null,
   "id": "adab046c",
   "metadata": {},
   "outputs": [],
   "source": [
    "import pandas as pd\n",
    "import re\n",
    "\n",
    "def parse(file_path):\n",
    "    with open(file_path, \"r\") as f:\n",
    "        lines = f.readlines()\n",
    "\n",
    "    send_pattern = re.compile(\n",
    "        r\"step=(?P<step>\\d+)\\s+time=(?P<time>[0-9.]+)\\s+send\\s+\"\n",
    "        r\"kp=(?P<kp>[0-9.\\-]+)\\s+ki=(?P<ki>[0-9.\\-]+)\\s+kd=(?P<kd>[0-9.\\-]+)\\s+u_min=(?P<u_min>[0-9.\\-]+)\\s+u_max=(?P<u_max>[0-9.\\-]+)\"\n",
    "    )\n",
    "    recv_pattern = re.compile(\n",
    "        r\"step=(?P<step>\\d+)\\s+time=(?P<time>[0-9.]+)\\s+recv\\s+\"\n",
    "        r\"process_variable=(?P<process_variable>[0-9.\\-]+)\\s+control_output=(?P<control_output>[0-9.\\-]+)\"\n",
    "    )\n",
    "\n",
    "    sends, recvs = {}, {}\n",
    "\n",
    "    for line in lines:\n",
    "        s = send_pattern.search(line)\n",
    "        if s:\n",
    "            d = s.groupdict()\n",
    "            step = int(d.pop(\"step\"))\n",
    "            d = {k: float(v) for k, v in d.items()}\n",
    "            sends[step] = d\n",
    "            continue\n",
    "\n",
    "        r = recv_pattern.search(line)\n",
    "        if r:\n",
    "            d = r.groupdict()\n",
    "            step = int(d.pop(\"step\"))\n",
    "            d = {k: float(v) for k, v in d.items()}\n",
    "            recvs[step] = d\n",
    "\n",
    "    records = []\n",
    "    for i, step in enumerate(sorted(set(sends.keys()) | set(recvs.keys()))):\n",
    "        data = {\"step\": i}\n",
    "        if step in sends:\n",
    "            data.update(sends[step])\n",
    "        if step in recvs:\n",
    "            data.update(recvs[step])\n",
    "        records.append(data)\n",
    "\n",
    "    df = pd.DataFrame(records)\n",
    "    return df"
   ]
  },
  {
   "cell_type": "code",
   "execution_count": null,
   "id": "f441b7aa",
   "metadata": {},
   "outputs": [],
   "source": [
    "data_df = parse(LOG_DIR / \"log.txt\")"
   ]
  },
  {
   "cell_type": "code",
   "execution_count": null,
   "id": "0af56ca7",
   "metadata": {},
   "outputs": [],
   "source": [
    "data_df.info()"
   ]
  },
  {
   "cell_type": "code",
   "execution_count": null,
   "id": "334db885",
   "metadata": {},
   "outputs": [],
   "source": [
    "data_df.head()"
   ]
  },
  {
   "cell_type": "code",
   "execution_count": null,
   "id": "94a39c14",
   "metadata": {},
   "outputs": [],
   "source": [
    "data_df.tail()"
   ]
  },
  {
   "cell_type": "markdown",
   "id": "91c8df66",
   "metadata": {},
   "source": [
    "## Этап warmup"
   ]
  },
  {
   "cell_type": "code",
   "execution_count": null,
   "id": "7a6f6c50",
   "metadata": {},
   "outputs": [],
   "source": [
    "import matplotlib.pyplot as plt\n",
    "import seaborn as sns\n",
    "\n",
    "WARMUP_STEPS = 1000\n",
    "warmup_df = data_df[data_df[\"step\"] < WARMUP_STEPS]\n",
    "\n",
    "SETPOINT = 1200\n",
    "\n",
    "fig, axes = plt.subplots(2, 1, figsize=(10, 8), sharex=True)\n",
    "\n",
    "sns.lineplot(ax=axes[0], x=\"step\", y=\"process_variable\", data=warmup_df)\n",
    "axes[0].axhline(SETPOINT, color=\"red\", linestyle=\"--\", label=f\"SETPOINT = {SETPOINT}\")\n",
    "axes[0].set_title(\"Process Variable (Warmup)\")\n",
    "axes[0].set_ylabel(\"process_variable\")\n",
    "axes[0].grid(True)\n",
    "axes[0].legend()\n",
    "\n",
    "sns.lineplot(ax=axes[1], x=\"step\", y=\"control_output\", data=warmup_df)\n",
    "axes[1].set_title(\"Control Output (Warmup)\")\n",
    "axes[1].set_xlabel(\"step\")\n",
    "axes[1].set_ylabel(\"control_output\")\n",
    "axes[1].grid(True)\n",
    "\n",
    "plt.tight_layout()\n",
    "plt.show()"
   ]
  },
  {
   "cell_type": "markdown",
   "id": "af1d5c61",
   "metadata": {},
   "source": [
    "## Этап перебора коэффициента Kp"
   ]
  },
  {
   "cell_type": "code",
   "execution_count": null,
   "id": "6bb50d80",
   "metadata": {},
   "outputs": [],
   "source": [
    "KP_SCAN_ASCENDING_STEPS = 100 * 200\n",
    "WARMUP_STEPS = 1000\n",
    "\n",
    "kp_scan_ascending_df = data_df[\n",
    "    (data_df[\"step\"] > WARMUP_STEPS) &\n",
    "    (data_df[\"step\"] < WARMUP_STEPS + KP_SCAN_ASCENDING_STEPS)\n",
    "]\n",
    "kp_scan_ascending_df[\"step\"] = kp_scan_ascending_df[\"step\"] - WARMUP_STEPS"
   ]
  },
  {
   "cell_type": "code",
   "execution_count": null,
   "id": "3f9e78cb",
   "metadata": {},
   "outputs": [],
   "source": [
    "fig, axes = plt.subplots(3, 1, figsize=(10, 8), sharex=True)\n",
    "\n",
    "sns.lineplot(ax=axes[0], x=\"step\", y=\"process_variable\", data=kp_scan_ascending_df)\n",
    "axes[0].axhline(SETPOINT, color=\"red\", linestyle=\"--\", label=f\"SETPOINT = {SETPOINT}\")\n",
    "axes[0].set_title(\"Process Variable\")\n",
    "axes[0].set_ylabel(\"process_variable\")\n",
    "axes[0].grid(True)\n",
    "axes[0].legend()\n",
    "\n",
    "sns.lineplot(ax=axes[1], x=\"step\", y=\"control_output\", data=kp_scan_ascending_df)\n",
    "axes[1].set_title(\"Control Output\")\n",
    "axes[1].set_xlabel(\"\")\n",
    "axes[1].set_ylabel(\"control_output\")\n",
    "axes[1].grid(True)\n",
    "\n",
    "sns.lineplot(ax=axes[2], x=\"step\", y=\"kp\", data=kp_scan_ascending_df)\n",
    "axes[2].set_title(\"Kp\")\n",
    "axes[2].set_xlabel(\"step\")\n",
    "axes[2].set_ylabel(\"Kp\")\n",
    "axes[2].grid(True)\n",
    "\n",
    "plt.tight_layout()\n",
    "plt.show()"
   ]
  },
  {
   "cell_type": "code",
   "execution_count": null,
   "id": "a92f7507",
   "metadata": {},
   "outputs": [],
   "source": [
    "import numpy as np\n",
    "import matplotlib.pyplot as plt\n",
    "\n",
    "BLOCK_SIZE = 200\n",
    "LAST_POINTS = 100\n",
    "SETPOINT = 1200\n",
    "\n",
    "error_means = []\n",
    "error_stds = []\n",
    "kp_values = []\n",
    "\n",
    "total_steps = kp_scan_ascending_df.shape[0]\n",
    "num_blocks = total_steps // BLOCK_SIZE\n",
    "\n",
    "for i in range(num_blocks):\n",
    "    block = kp_scan_ascending_df.iloc[i*BLOCK_SIZE:(i+1)*BLOCK_SIZE]\n",
    "    last_points = block.tail(LAST_POINTS)\n",
    "    error = last_points[\"process_variable\"] - SETPOINT\n",
    "    error_means.append(error.mean())\n",
    "    error_stds.append(error.std())\n",
    "    kp_values.append(block[\"kp\"].iloc[-1])\n",
    "\n",
    "fig, axes = plt.subplots(3, 1, figsize=(10, 8), sharex=True)\n",
    "\n",
    "axes[0].plot(range(num_blocks), error_means)\n",
    "axes[0].set_title(\"Error Mean per Block\")\n",
    "axes[0].set_ylabel(\"Error Mean\")\n",
    "axes[0].grid(True)\n",
    "\n",
    "axes[1].plot(range(num_blocks), error_stds, color='orange')\n",
    "axes[1].set_title(\"Error Std per Block\")\n",
    "axes[1].set_ylabel(\"Error Std\")\n",
    "axes[1].grid(True)\n",
    "\n",
    "axes[2].plot(range(num_blocks), kp_values, color='green')\n",
    "axes[2].set_title(\"Kp per Block\")\n",
    "axes[2].set_xlabel(\"Block Index\")\n",
    "axes[2].set_ylabel(\"Kp\")\n",
    "axes[2].grid(True)\n",
    "\n",
    "plt.tight_layout()\n",
    "plt.show()"
   ]
  },
  {
   "cell_type": "markdown",
   "id": "0a58e31b",
   "metadata": {},
   "source": [
    "## Этап перебора коэффицента Kp с нисхождением"
   ]
  },
  {
   "cell_type": "code",
   "execution_count": null,
   "id": "003952c2",
   "metadata": {},
   "outputs": [],
   "source": [
    "KP_SCAN_DESCENDING_STEPS = 100 * 200\n",
    "WARMUP_STEPS = 1000\n",
    "\n",
    "kp_scan_descending_df = data_df[\n",
    "    (data_df[\"step\"] > WARMUP_STEPS + KP_SCAN_ASCENDING_STEPS) &\n",
    "    (data_df[\"step\"] < WARMUP_STEPS + KP_SCAN_ASCENDING_STEPS + KP_SCAN_DESCENDING_STEPS)\n",
    "]\n",
    "kp_scan_descending_df[\"step\"] = kp_scan_descending_df[\"step\"] - (WARMUP_STEPS + KP_SCAN_ASCENDING_STEPS)"
   ]
  },
  {
   "cell_type": "code",
   "execution_count": null,
   "id": "dc193140",
   "metadata": {},
   "outputs": [],
   "source": [
    "fig, axes = plt.subplots(3, 1, figsize=(10, 8), sharex=True)\n",
    "\n",
    "sns.lineplot(ax=axes[0], x=\"step\", y=\"process_variable\", data=kp_scan_descending_df)\n",
    "axes[0].axhline(SETPOINT, color=\"red\", linestyle=\"--\", label=f\"SETPOINT = {SETPOINT}\")\n",
    "axes[0].set_title(\"Process Variable\")\n",
    "axes[0].set_ylabel(\"process_variable\")\n",
    "axes[0].grid(True)\n",
    "axes[0].legend()\n",
    "\n",
    "sns.lineplot(ax=axes[1], x=\"step\", y=\"control_output\", data=kp_scan_descending_df)\n",
    "axes[1].set_title(\"Control Output\")\n",
    "axes[1].set_xlabel(\"\")\n",
    "axes[1].set_ylabel(\"control_output\")\n",
    "axes[1].grid(True)\n",
    "\n",
    "sns.lineplot(ax=axes[2], x=\"step\", y=\"kp\", data=kp_scan_descending_df)\n",
    "axes[2].set_title(\"Kp\")\n",
    "axes[2].set_xlabel(\"step\")\n",
    "axes[2].set_ylabel(\"Kp\")\n",
    "axes[2].grid(True)\n",
    "\n",
    "plt.tight_layout()\n",
    "plt.show()"
   ]
  },
  {
   "cell_type": "code",
   "execution_count": null,
   "id": "6c3180fc",
   "metadata": {},
   "outputs": [],
   "source": [
    "import numpy as np\n",
    "import matplotlib.pyplot as plt\n",
    "\n",
    "BLOCK_SIZE = 200\n",
    "LAST_POINTS = 100\n",
    "SETPOINT = 1200\n",
    "\n",
    "error_means = []\n",
    "error_stds = []\n",
    "kp_values = []\n",
    "\n",
    "total_steps = kp_scan_descending_df.shape[0]\n",
    "num_blocks = total_steps // BLOCK_SIZE\n",
    "\n",
    "for i in range(num_blocks):\n",
    "    block = kp_scan_descending_df.iloc[i*BLOCK_SIZE:(i+1)*BLOCK_SIZE]\n",
    "    last_points = block.tail(LAST_POINTS)\n",
    "    error = last_points[\"process_variable\"] - SETPOINT\n",
    "    error_means.append(error.mean())\n",
    "    error_stds.append(error.std())\n",
    "    kp_values.append(block[\"kp\"].iloc[-1])\n",
    "\n",
    "fig, axes = plt.subplots(3, 1, figsize=(10, 8), sharex=True)\n",
    "\n",
    "axes[0].plot(range(num_blocks), error_means)\n",
    "axes[0].set_title(\"Error Mean per Block\")\n",
    "axes[0].set_ylabel(\"Error Mean\")\n",
    "axes[0].grid(True)\n",
    "\n",
    "axes[1].plot(range(num_blocks), error_stds, color='orange')\n",
    "axes[1].set_title(\"Error Std per Block\")\n",
    "axes[1].set_ylabel(\"Error Std\")\n",
    "axes[1].grid(True)\n",
    "\n",
    "axes[2].plot(range(num_blocks), kp_values, color='green')\n",
    "axes[2].set_title(\"Kp per Block\")\n",
    "axes[2].set_xlabel(\"Block Index\")\n",
    "axes[2].set_ylabel(\"Kp\")\n",
    "axes[2].grid(True)\n",
    "\n",
    "plt.tight_layout()\n",
    "plt.show()"
   ]
  },
  {
   "cell_type": "markdown",
   "id": "a2743390",
   "metadata": {},
   "source": [
    "## Винеровский процесс"
   ]
  },
  {
   "cell_type": "code",
   "execution_count": null,
   "id": "c9d25085",
   "metadata": {},
   "outputs": [],
   "source": [
    "WARMUP_STEPS = 1000\n",
    "KP_SCAN_ASCENDING_STEPS = 100 * 200\n",
    "KP_SCAN_DESCENDING_STEPS = 100 * 200\n",
    "WINNER_STEPS = 100_000\n",
    "\n",
    "winner_df = data_df[\n",
    "    (data_df[\"step\"] > 2 * WARMUP_STEPS + KP_SCAN_ASCENDING_STEPS + KP_SCAN_DESCENDING_STEPS) &\n",
    "    (data_df[\"step\"] < 2 * WARMUP_STEPS + KP_SCAN_ASCENDING_STEPS + KP_SCAN_DESCENDING_STEPS + WINNER_STEPS)\n",
    "].copy()\n",
    "\n",
    "winner_df[\"step\"] = winner_df[\"step\"] - (2 * WARMUP_STEPS + KP_SCAN_ASCENDING_STEPS + KP_SCAN_DESCENDING_STEPS)\n"
   ]
  },
  {
   "cell_type": "code",
   "execution_count": null,
   "id": "ffdfcf9f",
   "metadata": {},
   "outputs": [],
   "source": [
    "fig, axes = plt.subplots(3, 1, figsize=(10, 8), sharex=True)\n",
    "\n",
    "sns.lineplot(ax=axes[0], x=\"step\", y=\"process_variable\", data=winner_df)\n",
    "axes[0].axhline(SETPOINT, color=\"red\", linestyle=\"--\", label=f\"SETPOINT = {SETPOINT}\")\n",
    "axes[0].set_title(\"Process Variable\")\n",
    "axes[0].set_ylabel(\"process_variable\")\n",
    "axes[0].grid(True)\n",
    "axes[0].legend()\n",
    "\n",
    "sns.lineplot(ax=axes[1], x=\"step\", y=\"control_output\", data=winner_df)\n",
    "axes[1].set_title(\"Control Output\")\n",
    "axes[1].set_xlabel(\"\")\n",
    "axes[1].set_ylabel(\"control_output\")\n",
    "axes[1].grid(True)\n",
    "\n",
    "sns.lineplot(ax=axes[2], x=\"step\", y=\"kp\", data=winner_df)\n",
    "axes[2].set_title(\"Kp\")\n",
    "axes[2].set_xlabel(\"step\")\n",
    "axes[2].set_ylabel(\"Kp\")\n",
    "axes[2].grid(True)\n",
    "\n",
    "plt.tight_layout()\n",
    "plt.show()"
   ]
  }
 ],
 "metadata": {
  "kernelspec": {
   "display_name": "nn-laser-stabilizer",
   "language": "python",
   "name": "python3"
  },
  "language_info": {
   "codemirror_mode": {
    "name": "ipython",
    "version": 3
   },
   "file_extension": ".py",
   "mimetype": "text/x-python",
   "name": "python",
   "nbconvert_exporter": "python",
   "pygments_lexer": "ipython3",
   "version": "3.10.13"
  }
 },
 "nbformat": 4,
 "nbformat_minor": 5
}
