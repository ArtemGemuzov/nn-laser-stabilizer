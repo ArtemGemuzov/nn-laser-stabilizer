{
 "cells": [
  {
   "cell_type": "markdown",
   "id": "73fe0c98",
   "metadata": {},
   "source": [
    "# Анализ результатов эксперимента от 26.09.25"
   ]
  },
  {
   "cell_type": "code",
   "execution_count": 1,
   "id": "b205b79f",
   "metadata": {},
   "outputs": [],
   "source": [
    "%load_ext autoreload\n",
    "%autoreload 2"
   ]
  },
  {
   "cell_type": "markdown",
   "id": "ba6ffe21",
   "metadata": {},
   "source": [
    "## Описание эксперимента"
   ]
  },
  {
   "cell_type": "markdown",
   "id": "fb445adf",
   "metadata": {},
   "source": [
    "Перебор коэффициентов по равномерной сетке. Setpoint = 1200. Сетка 7*7*7, не включая граничные точки."
   ]
  },
  {
   "cell_type": "markdown",
   "id": "1ee0ffc2",
   "metadata": {},
   "source": [
    "## Результаты"
   ]
  },
  {
   "cell_type": "code",
   "execution_count": 1,
   "id": "52859ba0",
   "metadata": {},
   "outputs": [],
   "source": [
    "from pathlib import Path\n",
    "\n",
    "EXPERIMENT_NAME = \"pid_grid_scan\"\n",
    "EXPERIMENT_DATE = \"2025-09-26\"\n",
    "EXPERIMENT_TIME = \"16-48-36\"\n",
    "\n",
    "PATH_TO_EXP_DIR = Path(f\"../experiments/{EXPERIMENT_NAME}/{EXPERIMENT_DATE}/{EXPERIMENT_TIME}\")\n",
    "LOG_DIR = PATH_TO_EXP_DIR / \"logs\""
   ]
  },
  {
   "cell_type": "code",
   "execution_count": 2,
   "id": "f84bf2b1",
   "metadata": {},
   "outputs": [],
   "source": [
    "import pandas as pd\n",
    "import re\n",
    "from collections import defaultdict\n",
    "\n",
    "def parse_pid_logfile(path: str) -> pd.DataFrame:\n",
    "    \"\"\"\n",
    "    Читает лог PID-контроллера из файла и возвращает DataFrame.\n",
    "    Для каждого step объединяет send и recv в одну строку.\n",
    "    \"\"\"\n",
    "    pattern = re.compile(r\"(\\w+)=([0-9.+-eE]+)\")\n",
    "    steps = defaultdict(dict)\n",
    "\n",
    "    with open(path, \"r\", encoding=\"utf-8\") as f:\n",
    "        for line in f:\n",
    "            line = line.strip()\n",
    "            if not line:\n",
    "                continue\n",
    "\n",
    "            parts = line.split(maxsplit=3)\n",
    "            step = int(parts[0].split(\"=\")[1])\n",
    "            timestamp = float(parts[1].split(\"=\")[1])\n",
    "            direction = parts[2]  # send / recv\n",
    "\n",
    "            steps[step][f\"time_{direction}\"] = timestamp\n",
    "\n",
    "            if len(parts) > 3:\n",
    "                for key, value in pattern.findall(parts[3]):\n",
    "                    steps[step][key] = float(value)\n",
    "\n",
    "    df = pd.DataFrame.from_dict(steps, orient=\"index\").reset_index()\n",
    "    df = df.rename(columns={\"index\": \"step\"})\n",
    "    return df.sort_values(\"step\").reset_index(drop=True)\n"
   ]
  },
  {
   "cell_type": "code",
   "execution_count": null,
   "id": "787b1380",
   "metadata": {},
   "outputs": [],
   "source": [
    "log_df = parse_pid_logfile(LOG_DIR / \"log.txt\")\n",
    "\n",
    "SETPOINT = 1200\n",
    "log_df[\"setpoint\"] = SETPOINT\n",
    "\n",
    "log_df[\"error\"] = -abs(log_df[\"process_variable\"] - SETPOINT)"
   ]
  },
  {
   "cell_type": "code",
   "execution_count": null,
   "id": "4eab6e0e",
   "metadata": {},
   "outputs": [],
   "source": [
    "print(log_df.head())"
   ]
  },
  {
   "cell_type": "code",
   "execution_count": null,
   "id": "f8a5bf97",
   "metadata": {},
   "outputs": [],
   "source": [
    "print(log_df.info())"
   ]
  },
  {
   "cell_type": "code",
   "execution_count": null,
   "id": "491d6340",
   "metadata": {},
   "outputs": [],
   "source": [
    "print(log_df.describe())"
   ]
  },
  {
   "cell_type": "code",
   "execution_count": null,
   "id": "93214dd2",
   "metadata": {},
   "outputs": [],
   "source": [
    "import matplotlib.pyplot as plt\n",
    "import seaborn as sns\n",
    "\n",
    "def plot_df(ax, df, tags=None, title=\"Training curves\"):\n",
    "    for tag in tags:\n",
    "        sns.lineplot(data=df, x=\"step\", y=tag, ax=ax, label=tag)\n",
    "    \n",
    "    ax.set_title(title, fontsize=14)\n",
    "    ax.set_xlabel(\"Step\")\n",
    "    ax.set_ylabel(\"Value\")\n",
    "    ax.legend(title=\"Metric\")"
   ]
  },
  {
   "cell_type": "code",
   "execution_count": null,
   "id": "2c5a1745",
   "metadata": {},
   "outputs": [],
   "source": [
    "fig, ax = plt.subplots(figsize=(10, 6))\n",
    "plot_df(ax, log_df, tags=[\"process_variable\", \"control_output\"], title=\"Observation curves\")\n",
    "plt.tight_layout()\n",
    "plt.savefig(LOG_DIR / \"logs.pdf\")"
   ]
  },
  {
   "cell_type": "code",
   "execution_count": null,
   "id": "640e6b75",
   "metadata": {},
   "outputs": [],
   "source": [
    "fig, ax = plt.subplots(figsize=(10, 6))\n",
    "plot_df(ax, log_df, tags=[\"process_variable\", \"control_output\"], title=\"Observation curves\")\n",
    "ax.set_xlim(left=1000, right=31_000)\n",
    "plt.tight_layout()"
   ]
  },
  {
   "cell_type": "code",
   "execution_count": null,
   "id": "e320f2e0",
   "metadata": {},
   "outputs": [],
   "source": [
    "fig, axes = plt.subplots(2, 1, figsize=(10, 8), sharex=True)\n",
    "\n",
    "tags=[\"process_variable\", \"control_output\"]\n",
    "titles = tags\n",
    "\n",
    "for ax, tag, title in zip(axes, tags, titles):\n",
    "    plot_df(ax, log_df, tags=[tag], title=title)\n",
    "\n",
    "    if tag == \"process_variable\":\n",
    "        ax.axhline(y=1200, color=\"black\", linestyle=\"--\")\n",
    "\n",
    "plt.tight_layout()\n",
    "plt.savefig(LOG_DIR / \"observation_logs_split.pdf\")"
   ]
  },
  {
   "cell_type": "code",
   "execution_count": null,
   "id": "b9c2a491",
   "metadata": {},
   "outputs": [],
   "source": [
    "action_tags = [\"kp\", \"ki\", \"kd\"]\n",
    "\n",
    "for tag in action_tags:\n",
    "    fig, ax = plt.subplots(figsize=(10, 6))\n",
    "\n",
    "    plot_df(ax, log_df, tags=[tag], title=tag)\n",
    "\n",
    "    ax.axhline(y=0, color=\"black\", linestyle=\"--\")\n",
    "\n",
    "    plt.tight_layout()\n",
    "    plt.savefig(LOG_DIR / f\"{tag.replace('/', '_')}.pdf\")"
   ]
  },
  {
   "cell_type": "code",
   "execution_count": null,
   "id": "4bfe9f0e",
   "metadata": {},
   "outputs": [],
   "source": [
    "fig, axes = plt.subplots(3, 1, figsize=(10, 12), sharex=True)\n",
    "\n",
    "tags=action_tags\n",
    "titles = tags\n",
    "\n",
    "for ax, tag, title in zip(axes, tags, titles):\n",
    "    plot_df(ax, log_df, tags=[tag], title=title)\n",
    "\n",
    "plt.tight_layout()\n",
    "plt.savefig(LOG_DIR / \"action_logs_split.pdf\")"
   ]
  },
  {
   "cell_type": "code",
   "execution_count": null,
   "id": "64df9b0f",
   "metadata": {},
   "outputs": [],
   "source": [
    "fig, ax1 = plt.subplots(figsize=(12, 5))\n",
    "df = log_df\n",
    "\n",
    "x = df['step']\n",
    "\n",
    "ax1.plot(x, df['process_variable'], label='process_variable', color='tab:blue')\n",
    "ax1.plot(x, df['control_output'], label='control_output', color='tab:orange')\n",
    "ax1.set_xlabel('step')\n",
    "ax1.set_ylabel('PV / CO')\n",
    "ax1.grid(True)\n",
    "ax1.set_xlim(left=1000)\n",
    "\n",
    "ax2 = ax1.twinx()\n",
    "if 'kp' in df.columns:\n",
    "    ax2.plot(x, df['kp'], label='Kp', color='tab:green')\n",
    "ax2.set_ylabel('kp')\n",
    "\n",
    "lines, labels = ax1.get_legend_handles_labels()\n",
    "lines2, labels2 = ax2.get_legend_handles_labels()\n",
    "ax1.legend(lines + lines2, labels + labels2)\n",
    "plt.title('Process variable vs Control output vs Kp')\n",
    "plt.tight_layout()\n",
    "plt.show()"
   ]
  },
  {
   "cell_type": "code",
   "execution_count": null,
   "id": "90675c60",
   "metadata": {},
   "outputs": [],
   "source": [
    "from nn_laser_stabilizer.envs.reward import (\n",
    "    AbsoluteErrorReward,\n",
    "    ExponentialErrorReward,\n",
    "    RelativeErrorReward,\n",
    ")\n",
    "\n",
    "abs_reward = AbsoluteErrorReward()\n",
    "rel_reward = RelativeErrorReward()\n",
    "exp_reward_k5 = ExponentialErrorReward(k=5.0)\n",
    "exp_reward_k15 = ExponentialErrorReward(k=15.0)\n",
    "\n",
    "df = log_df[log_df[\"step\"] >= 1000]\n",
    "\n",
    "df['reward_absolute'] = [abs_reward(pv, sp) for pv, sp in zip(df['process_variable'], df['setpoint'])]\n",
    "df['reward_relative'] = [rel_reward(pv, sp) for pv, sp in zip(df['process_variable'], df['setpoint'])]\n",
    "df['reward_exponential_k5'] = [exp_reward_k5(pv, sp) for pv, sp in zip(df['process_variable'], df['setpoint'])]\n",
    "df['reward_exponential_k15'] = [exp_reward_k15(pv, sp) for pv, sp in zip(df['process_variable'], df['setpoint'])]\n",
    "\n",
    "x = df['step'] if 'step' in df.columns else range(len(df))\n",
    "fig, axes = plt.subplots(2, 2, figsize=(14, 8), sharex=True)\n",
    "\n",
    "axes[0,0].plot(x, df['reward_absolute'], color='tab:blue', linewidth=1.0)\n",
    "axes[0,0].set_title('AbsoluteErrorReward')\n",
    "axes[0,0].set_ylabel('reward')\n",
    "axes[0,0].grid(True, alpha=0.3)\n",
    "\n",
    "axes[0,1].plot(x, df['reward_relative'], color='tab:orange', linewidth=1.0)\n",
    "axes[0,1].set_title('RelativeErrorReward')\n",
    "axes[0,1].grid(True, alpha=0.3)\n",
    "\n",
    "axes[1,0].plot(x, df['reward_exponential_k5'], color='tab:green', linewidth=1.0)\n",
    "axes[1,0].set_title('ExponentialErrorReward (k=5)')\n",
    "axes[1,0].set_xlabel('step')\n",
    "axes[1,0].set_ylabel('reward')\n",
    "axes[1,0].grid(True, alpha=0.3)\n",
    "\n",
    "axes[1,1].plot(x, df['reward_exponential_k15'], color='tab:red', linewidth=1.0)\n",
    "axes[1,1].set_title('ExponentialErrorReward (k=15)')\n",
    "axes[1,1].set_xlabel('step')\n",
    "axes[1,1].grid(True, alpha=0.3)\n",
    "\n",
    "plt.tight_layout()"
   ]
  },
  {
   "cell_type": "code",
   "execution_count": null,
   "id": "fd1ade46",
   "metadata": {},
   "outputs": [],
   "source": [
    "BLOCK = 2000  \n",
    "\n",
    "df[\"block\"] = df[\"step\"] // BLOCK  \n",
    "\n",
    "df_avg = (\n",
    "    df.groupby(\"block\")\n",
    "    .agg({\n",
    "        \"reward_absolute\": \"mean\",\n",
    "        \"reward_relative\": \"mean\",\n",
    "        \"reward_exponential_k5\": \"mean\",\n",
    "        \"reward_exponential_k15\": \"mean\",\n",
    "        \"control_output\": \"mean\",\n",
    "        \"process_variable\": [\"mean\", \"std\"],\n",
    "        \"error\": [\"mean\", \"std\"]\n",
    "    })\n",
    "    .reset_index()\n",
    ")\n",
    "\n",
    "df_avg.columns = [\"_\".join(col).strip(\"_\") for col in df_avg.columns.values]\n",
    "\n",
    "df_avg[\"step\"] = df_avg[\"block\"]"
   ]
  },
  {
   "cell_type": "code",
   "execution_count": null,
   "id": "b193814a",
   "metadata": {},
   "outputs": [],
   "source": [
    "fig, axes = plt.subplots(2, 2, figsize=(14, 8), sharex=True)\n",
    "\n",
    "axes[0,0].plot(df_avg[\"step\"], df_avg[\"reward_absolute\"], color='tab:blue', linewidth=1.5)\n",
    "axes[0,0].set_title('AbsoluteErrorReward (avg per 2000 steps)')\n",
    "axes[0,0].set_ylabel('reward')\n",
    "axes[0,0].grid(True, alpha=0.3)\n",
    "\n",
    "axes[0,1].plot(df_avg[\"step\"], df_avg[\"reward_relative\"], color='tab:orange', linewidth=1.5)\n",
    "axes[0,1].set_title('RelativeErrorReward (avg per 2000 steps)')\n",
    "axes[0,1].grid(True, alpha=0.3)\n",
    "\n",
    "axes[1,0].plot(df_avg[\"step\"], df_avg[\"reward_exponential_k5\"], color='tab:green', linewidth=1.5)\n",
    "axes[1,0].set_title('ExponentialErrorReward (k=5, avg)')\n",
    "axes[1,0].set_xlabel('step')\n",
    "axes[1,0].set_ylabel('reward')\n",
    "axes[1,0].grid(True, alpha=0.3)\n",
    "\n",
    "axes[1,1].plot(df_avg[\"step\"], df_avg[\"reward_exponential_k15\"], color='tab:red', linewidth=1.5)\n",
    "axes[1,1].set_title('ExponentialErrorReward (k=15, avg)')\n",
    "axes[1,1].set_xlabel('step')\n",
    "axes[1,1].grid(True, alpha=0.3)\n",
    "\n",
    "plt.tight_layout()\n",
    "plt.show()"
   ]
  },
  {
   "cell_type": "code",
   "execution_count": null,
   "id": "4f7279a0",
   "metadata": {},
   "outputs": [],
   "source": [
    "fig, ax = plt.subplots(2, 1, figsize=(8, 8), sharex=True)\n",
    "\n",
    "ax[0].plot(df_avg[\"step\"], df_avg[\"control_output\"], color='tab:blue', linewidth=1.5)\n",
    "ax[0].set_title(\"Control output (avg per block)\")\n",
    "ax[0].grid(True, alpha=0.3)\n",
    "\n",
    "ax[1].plot(df_avg[\"step\"], df_avg[\"process_variable\"], color='tab:green', linewidth=1.5)\n",
    "ax[1].set_title(\"Process variable (avg per block)\")\n",
    "ax[1].set_xlabel(\"step\")\n",
    "ax[1].grid(True, alpha=0.3)\n",
    "\n",
    "plt.tight_layout()\n",
    "plt.show()\n"
   ]
  },
  {
   "cell_type": "code",
   "execution_count": null,
   "id": "980660a8",
   "metadata": {},
   "outputs": [],
   "source": [
    "fig, ax = plt.subplots(3, 1, figsize=(14, 12))\n",
    "\n",
    "ax[0].plot(df[\"step\"], df[\"error\"], color=\"tab:blue\", linewidth=1)\n",
    "ax[0].set_title(\"Error\")\n",
    "ax[0].set_ylabel(\"error\")\n",
    "ax[0].grid(True, alpha=0.3)\n",
    "\n",
    "ax[1].plot(df_avg[\"block\"], df_avg[\"error\"], color=\"tab:red\", linewidth=1.5)\n",
    "ax[1].set_title(f\"Error (усреднение по {BLOCK} шагам)\")\n",
    "ax[1].set_xlabel(\"step\")\n",
    "ax[1].set_ylabel(\"error\")\n",
    "ax[1].grid(True, alpha=0.3)\n",
    "\n",
    "ax[2].plot(df_avg[\"block\"], df_avg[\"error_std\"], color=\"tab:red\", linewidth=1.5)\n",
    "ax[2].set_title(f\"Error (усреднение по {BLOCK} шагам)\")\n",
    "ax[2].set_xlabel(\"step\")\n",
    "ax[2].set_ylabel(\"error\")\n",
    "ax[2].grid(True, alpha=0.3)\n",
    "\n",
    "plt.tight_layout()"
   ]
  }
 ],
 "metadata": {
  "kernelspec": {
   "display_name": "nn-laser-stabilizer",
   "language": "python",
   "name": "python3"
  },
  "language_info": {
   "codemirror_mode": {
    "name": "ipython",
    "version": 3
   },
   "file_extension": ".py",
   "mimetype": "text/x-python",
   "name": "python",
   "nbconvert_exporter": "python",
   "pygments_lexer": "ipython3",
   "version": "3.10.13"
  }
 },
 "nbformat": 4,
 "nbformat_minor": 5
}
